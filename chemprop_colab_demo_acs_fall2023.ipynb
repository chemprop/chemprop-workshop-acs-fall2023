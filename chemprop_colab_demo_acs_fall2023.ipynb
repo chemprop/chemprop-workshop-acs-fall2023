{
  "cells": [
    {
      "cell_type": "markdown",
      "metadata": {
        "id": "view-in-github",
        "colab_type": "text"
      },
      "source": [
        "<a href=\"https://colab.research.google.com/github/kevingreenman/chemprop-workshop-acs-fall2023/blob/main/chemprop_colab_demo_acs_fall2023.ipynb\" target=\"_parent\"><img src=\"https://colab.research.google.com/assets/colab-badge.svg\" alt=\"Open In Colab\"/></a>"
      ]
    },
    {
      "cell_type": "markdown",
      "metadata": {
        "id": "T2XDc8RVq6p6"
      },
      "source": [
        "Please note that this notebook is intended to be run in Google Colab rather than as a Jupyter notebook on your local machine. Please click the \"Open in Colab\" button."
      ]
    },
    {
      "cell_type": "markdown",
      "metadata": {
        "id": "6jZnD-vU9Fd-"
      },
      "source": [
        "# Setup"
      ]
    },
    {
      "cell_type": "code",
      "execution_count": null,
      "metadata": {
        "id": "WGZxehx_44Rj"
      },
      "outputs": [],
      "source": [
        "!pip install chemprop\n",
        "!pip install rdkit-pypi  # should be included in above after Chemprop v1.6 release\n",
        "\n",
        "# Download test files from GitHub\n",
        "!apt install subversion\n",
        "!svn export https://github.com/chemprop/chemprop.git/trunk/tests/data\n",
        "\n",
        "import chemprop\n",
        "import pandas as pd\n",
        "import matplotlib.pyplot as plt\n",
        "from matplotlib.offsetbox import AnchoredText\n",
        "from sklearn.metrics import mean_absolute_error, mean_squared_error\n",
        "from sklearn.decomposition import PCA"
      ]
    },
    {
      "cell_type": "code",
      "execution_count": null,
      "metadata": {
        "id": "ZVmFInN_qj4n"
      },
      "outputs": [],
      "source": [
        "def plot_parity(y_true, y_pred, y_pred_unc=None):\n",
        "\n",
        "    axmin = min(min(y_true), min(y_pred)) - 0.1*(max(y_true)-min(y_true))\n",
        "    axmax = max(max(y_true), max(y_pred)) + 0.1*(max(y_true)-min(y_true))\n",
        "\n",
        "    mae = mean_absolute_error(y_true, y_pred)\n",
        "    rmse = mean_squared_error(y_true, y_pred, squared=False)\n",
        "\n",
        "    plt.plot([axmin, axmax], [axmin, axmax], '--k')\n",
        "\n",
        "    plt.errorbar(y_true, y_pred, yerr=y_pred_unc, linewidth=0, marker='o', markeredgecolor='w', alpha=1, elinewidth=1)\n",
        "\n",
        "    plt.xlim((axmin, axmax))\n",
        "    plt.ylim((axmin, axmax))\n",
        "\n",
        "    ax = plt.gca()\n",
        "    ax.set_aspect('equal')\n",
        "\n",
        "    at = AnchoredText(\n",
        "    f\"MAE = {mae:.2f}\\nRMSE = {rmse:.2f}\", prop=dict(size=10), frameon=True, loc='upper left')\n",
        "    at.patch.set_boxstyle(\"round,pad=0.,rounding_size=0.2\")\n",
        "    ax.add_artist(at)\n",
        "\n",
        "    plt.xlabel('True')\n",
        "    plt.ylabel('Chemprop Predicted')\n",
        "\n",
        "    plt.show()\n",
        "\n",
        "    return"
      ]
    },
    {
      "cell_type": "markdown",
      "metadata": {
        "id": "MQ67V6hr_6Yz"
      },
      "source": [
        "# Train regression model"
      ]
    },
    {
      "cell_type": "code",
      "execution_count": null,
      "metadata": {
        "id": "pqtogu2T7OTd",
        "scrolled": true
      },
      "outputs": [],
      "source": [
        "arguments = [\n",
        "    '--data_path', 'data/regression.csv',\n",
        "    '--dataset_type', 'regression',\n",
        "    '--save_dir', 'test_checkpoints_reg',\n",
        "    '--epochs', '5',\n",
        "    '--save_smiles_splits'\n",
        "]\n",
        "\n",
        "args = chemprop.args.TrainArgs().parse_args(arguments)\n",
        "mean_score, std_score = chemprop.train.cross_validate(args=args, train_func=chemprop.train.run_training)"
      ]
    },
    {
      "cell_type": "markdown",
      "metadata": {
        "id": "WZktZ7DsAAMn"
      },
      "source": [
        "# Predict from file"
      ]
    },
    {
      "cell_type": "code",
      "execution_count": null,
      "metadata": {
        "id": "5a1-7UXcJCss",
        "scrolled": true
      },
      "outputs": [],
      "source": [
        "arguments = [\n",
        "    '--test_path', 'test_checkpoints_reg/fold_0/test_smiles.csv',\n",
        "    '--preds_path', 'test_preds_reg.csv',\n",
        "    '--checkpoint_dir', 'test_checkpoints_reg'\n",
        "]\n",
        "\n",
        "args = chemprop.args.PredictArgs().parse_args(arguments)\n",
        "preds = chemprop.train.make_predictions(args=args)"
      ]
    },
    {
      "cell_type": "code",
      "execution_count": null,
      "metadata": {
        "id": "j-4hbBeerlX0",
        "scrolled": true
      },
      "outputs": [],
      "source": [
        "df = pd.read_csv('test_checkpoints_reg/fold_0/test_full.csv')\n",
        "df['preds'] = [x[0] for x in preds]\n",
        "df"
      ]
    },
    {
      "cell_type": "code",
      "execution_count": null,
      "metadata": {
        "id": "hj726FiKqj4q"
      },
      "outputs": [],
      "source": [
        "plot_parity(df.logSolubility, df.preds)"
      ]
    },
    {
      "cell_type": "markdown",
      "metadata": {
        "id": "GE9Tof7UK8cI"
      },
      "source": [
        "# Predict from SMILES list"
      ]
    },
    {
      "cell_type": "code",
      "execution_count": null,
      "metadata": {
        "id": "kswx6y_uJHqW",
        "scrolled": true
      },
      "outputs": [],
      "source": [
        "smiles = [['CCC'], ['CCCC'], ['OCC']]\n",
        "arguments = [\n",
        "    '--test_path', '/dev/null',\n",
        "    '--preds_path', '/dev/null',\n",
        "    '--checkpoint_dir', 'test_checkpoints_reg'\n",
        "]\n",
        "\n",
        "args = chemprop.args.PredictArgs().parse_args(arguments)\n",
        "preds = chemprop.train.make_predictions(args=args, smiles=smiles)"
      ]
    },
    {
      "cell_type": "markdown",
      "metadata": {
        "id": "54x-eGwxLEZ1"
      },
      "source": [
        "# Load model once, predict multiple times"
      ]
    },
    {
      "cell_type": "code",
      "execution_count": null,
      "metadata": {
        "id": "ICmfelGD7rcf",
        "scrolled": true
      },
      "outputs": [],
      "source": [
        "arguments = [\n",
        "    '--test_path', '/dev/null',\n",
        "    '--preds_path', '/dev/null',\n",
        "    '--checkpoint_dir', 'test_checkpoints_reg'\n",
        "]\n",
        "\n",
        "args = chemprop.args.PredictArgs().parse_args(arguments)\n",
        "\n",
        "model_objects = chemprop.train.load_model(args=args)\n",
        "\n",
        "smiles = [['CCC'], ['CCCC'], ['OCC']]\n",
        "preds = chemprop.train.make_predictions(args=args, smiles=smiles, model_objects=model_objects)\n",
        "\n",
        "smiles = [['CCCC'], ['CCCCC'], ['COCC']]\n",
        "preds = chemprop.train.make_predictions(args=args, smiles=smiles, model_objects=model_objects)"
      ]
    },
    {
      "cell_type": "markdown",
      "metadata": {
        "id": "7jCqwGfYqj4w"
      },
      "source": [
        "# Reactions"
      ]
    },
    {
      "cell_type": "code",
      "execution_count": null,
      "metadata": {
        "id": "6RltQMn8qj4w"
      },
      "outputs": [],
      "source": [
        "reaction_reg_df = pd.read_csv('data/reaction_regression.csv')\n",
        "reaction_reg_df"
      ]
    },
    {
      "cell_type": "code",
      "execution_count": null,
      "metadata": {
        "id": "faZ5arGiqj4w"
      },
      "outputs": [],
      "source": [
        "arguments = [\n",
        "    '--data_path', 'data/reaction_regression.csv',\n",
        "    '--dataset_type', 'regression',\n",
        "    '--save_dir', 'test_checkpoints_reaction',\n",
        "    '--epochs', '5',\n",
        "    '--reaction',\n",
        "    '--save_smiles_splits'\n",
        "]\n",
        "\n",
        "args = chemprop.args.TrainArgs().parse_args(arguments)\n",
        "mean_score, std_score = chemprop.train.cross_validate(args=args, train_func=chemprop.train.run_training)"
      ]
    },
    {
      "cell_type": "code",
      "execution_count": null,
      "metadata": {
        "scrolled": true,
        "id": "U0uWRx5Zqj4w"
      },
      "outputs": [],
      "source": [
        "arguments = [\n",
        "    '--test_path', 'test_checkpoints_reaction/fold_0/test_smiles.csv',\n",
        "    '--preds_path', 'test_preds_reaction.csv',\n",
        "    '--checkpoint_dir', 'test_checkpoints_reaction'\n",
        "]\n",
        "\n",
        "args = chemprop.args.PredictArgs().parse_args(arguments)\n",
        "preds = chemprop.train.make_predictions(args=args)"
      ]
    },
    {
      "cell_type": "code",
      "execution_count": null,
      "metadata": {
        "id": "0jAsBzayqj4w"
      },
      "outputs": [],
      "source": [
        "df = pd.read_csv('test_checkpoints_reaction/fold_0/test_full.csv')\n",
        "df['preds'] = [x[0] for x in preds]\n",
        "\n",
        "plot_parity(df.ea, df.preds)"
      ]
    },
    {
      "cell_type": "markdown",
      "metadata": {
        "id": "ROjlinX0qj4x"
      },
      "source": [
        "# Multiple-Molecule Inputs"
      ]
    },
    {
      "cell_type": "code",
      "execution_count": null,
      "metadata": {
        "id": "1dc99YcRqj4x"
      },
      "outputs": [],
      "source": [
        "multimolecule_df = pd.read_csv('data/classification_multimolecule.csv')\n",
        "multimolecule_df"
      ]
    },
    {
      "cell_type": "code",
      "execution_count": null,
      "metadata": {
        "scrolled": true,
        "id": "xPRnEIzpqj4x"
      },
      "outputs": [],
      "source": [
        "arguments = [\n",
        "    '--data_path', 'data/classification_multimolecule.csv',\n",
        "    '--dataset_type', 'classification',\n",
        "    '--save_dir', 'test_checkpoints_multimolecule',\n",
        "    '--epochs', '5',\n",
        "    '--save_smiles_splits',\n",
        "    '--number_of_molecules', '2',\n",
        "    '--split_key_molecule', '1' # defaults to 0 (1st column) if not specified\n",
        "]\n",
        "\n",
        "args = chemprop.args.TrainArgs().parse_args(arguments)\n",
        "mean_score, std_score = chemprop.train.cross_validate(args=args, train_func=chemprop.train.run_training)"
      ]
    },
    {
      "cell_type": "code",
      "execution_count": null,
      "metadata": {
        "scrolled": true,
        "id": "ug8U-ZdIqj4x"
      },
      "outputs": [],
      "source": [
        "arguments = [\n",
        "    '--test_path', 'test_checkpoints_multimolecule/fold_0/test_smiles.csv',\n",
        "    '--preds_path', 'test_preds_multimolecule.csv',\n",
        "    '--checkpoint_dir', 'test_checkpoints_multimolecule',\n",
        "    '--number_of_molecules', '2',\n",
        "]\n",
        "\n",
        "args = chemprop.args.PredictArgs().parse_args(arguments)\n",
        "preds = chemprop.train.make_predictions(args=args)"
      ]
    },
    {
      "cell_type": "markdown",
      "metadata": {
        "id": "ra4xqKLHqj4x"
      },
      "source": [
        "# Split Type"
      ]
    },
    {
      "cell_type": "code",
      "execution_count": null,
      "metadata": {
        "id": "VTlgNjW1qj4x"
      },
      "outputs": [],
      "source": [
        "arguments = [\n",
        "    '--data_path', 'data/regression.csv',\n",
        "    '--dataset_type', 'regression',\n",
        "    '--save_dir', 'test_checkpoints_splits',\n",
        "    '--epochs', '5',\n",
        "    '--split_type', 'scaffold_balanced',\n",
        "    '--save_smiles_splits'\n",
        "]\n",
        "\n",
        "args = chemprop.args.TrainArgs().parse_args(arguments)\n",
        "mean_score, std_score = chemprop.train.cross_validate(args=args, train_func=chemprop.train.run_training)"
      ]
    },
    {
      "cell_type": "code",
      "execution_count": null,
      "metadata": {
        "id": "V6d_mNCkqj4x"
      },
      "outputs": [],
      "source": [
        "arguments = [\n",
        "    '--test_path', 'test_checkpoints_splits/fold_0/test_smiles.csv',\n",
        "    '--preds_path', 'test_preds_splits.csv',\n",
        "    '--checkpoint_dir', 'test_checkpoints_splits',\n",
        "]\n",
        "\n",
        "args = chemprop.args.PredictArgs().parse_args(arguments)\n",
        "preds = chemprop.train.make_predictions(args=args)"
      ]
    },
    {
      "cell_type": "code",
      "execution_count": null,
      "metadata": {
        "id": "wyzQ_o50qj4x"
      },
      "outputs": [],
      "source": [
        "df = pd.read_csv('test_checkpoints_splits/fold_0/test_full.csv')\n",
        "df['preds'] = [x[0] for x in preds]\n",
        "\n",
        "plot_parity(df.logSolubility, df.preds)"
      ]
    },
    {
      "cell_type": "markdown",
      "metadata": {
        "id": "WNacITwVqj4x"
      },
      "source": [
        "# Ensembling and [OLD] Uncertainty"
      ]
    },
    {
      "cell_type": "code",
      "execution_count": null,
      "metadata": {
        "id": "RpXC83NMqj4x"
      },
      "outputs": [],
      "source": [
        "arguments = [\n",
        "    '--data_path', 'data/reaction_regression.csv',\n",
        "    '--dataset_type', 'regression',\n",
        "    '--save_dir', 'test_checkpoints_ensemble',\n",
        "    '--epochs', '5',\n",
        "    '--reaction',\n",
        "    '--save_smiles_splits',\n",
        "    '--ensemble_size', '5',\n",
        "    '--split_type', 'scaffold_balanced'\n",
        "]\n",
        "\n",
        "args = chemprop.args.TrainArgs().parse_args(arguments)\n",
        "mean_score, std_score = chemprop.train.cross_validate(args=args, train_func=chemprop.train.run_training)"
      ]
    },
    {
      "cell_type": "code",
      "execution_count": null,
      "metadata": {
        "scrolled": true,
        "id": "wt8ItRG3qj4x"
      },
      "outputs": [],
      "source": [
        "arguments = [\n",
        "    '--test_path', 'test_checkpoints_ensemble/fold_0/test_smiles.csv',\n",
        "    '--preds_path', 'test_preds_ensemble.csv',\n",
        "    '--checkpoint_dir', 'test_checkpoints_ensemble',\n",
        "    '--ensemble_variance'\n",
        "]\n",
        "\n",
        "args = chemprop.args.PredictArgs().parse_args(arguments)\n",
        "preds = chemprop.train.make_predictions(args=args)"
      ]
    },
    {
      "cell_type": "code",
      "execution_count": null,
      "metadata": {
        "scrolled": true,
        "id": "5WaSuowCqj4x"
      },
      "outputs": [],
      "source": [
        "preds_df = pd.read_csv('test_preds_ensemble.csv')\n",
        "preds_df"
      ]
    },
    {
      "cell_type": "code",
      "execution_count": null,
      "metadata": {
        "id": "IDoQXtURqj4y"
      },
      "outputs": [],
      "source": [
        "df = pd.read_csv('test_checkpoints_ensemble/fold_0/test_full.csv')\n",
        "plot_parity(df.ea, preds_df.ea, preds_df.ea_ensemble_uncal_var)"
      ]
    },
    {
      "cell_type": "markdown",
      "metadata": {
        "id": "b9IskYn_qj4y"
      },
      "source": [
        "# Fingerprint"
      ]
    },
    {
      "cell_type": "code",
      "execution_count": null,
      "metadata": {
        "scrolled": true,
        "id": "1JIABGusqj4y"
      },
      "outputs": [],
      "source": [
        "arguments = [\n",
        "    '--test_path', 'data/regression.csv',\n",
        "    '--preds_path', 'test_preds_fingerprint.csv',\n",
        "    '--checkpoint_dir', 'test_checkpoints_reg',\n",
        "    '--fingerprint_type', 'MPN'\n",
        "]\n",
        "\n",
        "args = chemprop.args.FingerprintArgs().parse_args(arguments)\n",
        "preds = chemprop.train.molecule_fingerprint.molecule_fingerprint(args=args)"
      ]
    },
    {
      "cell_type": "code",
      "execution_count": null,
      "metadata": {
        "id": "Q2zDA4Hxqj4y"
      },
      "outputs": [],
      "source": [
        "preds.squeeze().shape"
      ]
    },
    {
      "cell_type": "code",
      "execution_count": null,
      "metadata": {
        "id": "ucy2Bn5Kqj4y"
      },
      "outputs": [],
      "source": [
        "df = pd.read_csv('data/regression.csv')\n",
        "\n",
        "pca = PCA(n_components=2)\n",
        "pca_xy = pca.fit_transform(preds.squeeze())\n",
        "plt.scatter(pca_xy[:,0], pca_xy[:,1], s=30, c=df.logSolubility, edgecolor='w')\n",
        "plt.colorbar(label='logSolubility')\n",
        "plt.xlabel('PCA 1')\n",
        "plt.ylabel('PCA 2')\n",
        "plt.show()"
      ]
    },
    {
      "cell_type": "markdown",
      "metadata": {
        "id": "oGUPCknvqj4y"
      },
      "source": [
        "# Spectra"
      ]
    },
    {
      "cell_type": "code",
      "execution_count": null,
      "metadata": {
        "id": "bwF0PzS9qj4y"
      },
      "outputs": [],
      "source": [
        "arguments = [\n",
        "    '--data_path', 'data/spectra.csv',\n",
        "    '--dataset_type', 'spectra',\n",
        "    '--save_dir', 'test_checkpoints_spectra',\n",
        "    '--epochs', '5',\n",
        "    '--features_path', 'data/spectra_features.csv',\n",
        "    '--split_type', 'random_with_repeated_smiles',\n",
        "    '--save_smiles_splits'\n",
        "]\n",
        "\n",
        "args = chemprop.args.TrainArgs().parse_args(arguments)\n",
        "mean_score, std_score = chemprop.train.cross_validate(args=args, train_func=chemprop.train.run_training)"
      ]
    },
    {
      "cell_type": "code",
      "execution_count": null,
      "metadata": {
        "scrolled": true,
        "id": "e2tFb6TKqj4y"
      },
      "outputs": [],
      "source": [
        "arguments = [\n",
        "    '--test_path', 'test_checkpoints_spectra/fold_0/test_smiles.csv',\n",
        "    '--preds_path', 'test_preds_spectra.csv',\n",
        "    '--checkpoint_dir', 'test_checkpoints_spectra',\n",
        "    '--features_path', 'data/spectra_features.csv'\n",
        "]\n",
        "\n",
        "args = chemprop.args.PredictArgs().parse_args(arguments)\n",
        "preds = chemprop.train.make_predictions(args=args)"
      ]
    },
    {
      "cell_type": "markdown",
      "metadata": {
        "id": "0kinNKidqj4y"
      },
      "source": [
        "# Pretraining / Transfer Learning"
      ]
    },
    {
      "cell_type": "code",
      "execution_count": null,
      "metadata": {
        "id": "dM8pI9p6qj4y"
      },
      "outputs": [],
      "source": [
        "arguments = [\n",
        "    '--data_path', 'data/regression.csv',\n",
        "    '--dataset_type', 'regression',\n",
        "    '--save_dir', 'test_checkpoints_transfer',\n",
        "    '--epochs', '5',\n",
        "    '--save_smiles_splits'\n",
        "]\n",
        "\n",
        "args = chemprop.args.TrainArgs().parse_args(arguments)\n",
        "mean_score, std_score = chemprop.train.cross_validate(args=args, train_func=chemprop.train.run_training)"
      ]
    },
    {
      "cell_type": "code",
      "execution_count": null,
      "metadata": {
        "id": "3LVDRXsCqj4z"
      },
      "outputs": [],
      "source": [
        "arguments = [\n",
        "    '--data_path', 'data/regression.csv',\n",
        "    '--dataset_type', 'regression',\n",
        "    '--save_dir', 'test_checkpoints_transfer',\n",
        "    '--epochs', '5',\n",
        "    '--checkpoint_frzn', 'test_checkpoints_transfer/fold_0/model_0/model.pt'\n",
        "]\n",
        "\n",
        "args = chemprop.args.TrainArgs().parse_args(arguments)\n",
        "mean_score, std_score = chemprop.train.cross_validate(args=args, train_func=chemprop.train.run_training)"
      ]
    },
    {
      "cell_type": "code",
      "execution_count": null,
      "metadata": {
        "scrolled": true,
        "id": "3EKNdFKKqj4z"
      },
      "outputs": [],
      "source": [
        "arguments = [\n",
        "    '--test_path', 'test_checkpoints_transfer/fold_0/test_smiles.csv',\n",
        "    '--preds_path', 'test_preds_transfer.csv',\n",
        "    '--checkpoint_dir', 'test_checkpoints_transfer',\n",
        "]\n",
        "\n",
        "args = chemprop.args.PredictArgs().parse_args(arguments)\n",
        "preds = chemprop.train.make_predictions(args=args)"
      ]
    },
    {
      "cell_type": "markdown",
      "source": [
        "# Hyperparameter Optimization"
      ],
      "metadata": {
        "id": "1BRlhlY9_q3A"
      }
    },
    {
      "cell_type": "code",
      "source": [
        "hyperopt_args = [\n",
        "    '--data_path', 'data/regression.csv',\n",
        "    '--dataset_type', 'regression',\n",
        "    '--num_iters', '3',\n",
        "    '--config_save_path', 'best_hyperparams.json',\n",
        "    '--epochs', '4',\n",
        "]\n",
        "\n",
        "args_hyperopt = chemprop.args.HyperoptArgs().parse_args(hyperopt_args)\n",
        "chemprop.hyperparameter_optimization.hyperopt(args=args_hyperopt)"
      ],
      "metadata": {
        "id": "CJ54-Pih_ty8"
      },
      "execution_count": null,
      "outputs": []
    },
    {
      "cell_type": "markdown",
      "source": [
        "# Dropout Uncertainty"
      ],
      "metadata": {
        "id": "9oOdPwya_uZ3"
      }
    },
    {
      "cell_type": "code",
      "source": [
        "arguments = [\n",
        "        '--test_path', '/dev/null',\n",
        "        '--preds_path', '/dev/null',\n",
        "        '--checkpoint_dir', 'test_checkpoints_reg',\n",
        "        '--uncertainty_method', 'dropout',\n",
        "        '--uncertainty_dropout_p', '0.5',\n",
        "        '--dropout_sampling_size', '5'\n",
        "    ]\n",
        "\n",
        "args = chemprop.args.PredictArgs().parse_args(arguments)\n",
        "model_objects = chemprop.train.load_model(args=args, generator=True)\n",
        "\n",
        "list_of_smiles = [[\"O=C1CCSCC1\"], [\"S=C=S\"]]\n",
        "preds = chemprop.train.make_predictions(args=args, smiles=list_of_smiles, return_uncertainty=True, model_objects=model_objects)"
      ],
      "metadata": {
        "id": "9iUSdmGI_3ve"
      },
      "execution_count": null,
      "outputs": []
    },
    {
      "cell_type": "code",
      "source": [
        "preds"
      ],
      "metadata": {
        "id": "gufP7GSEBNca"
      },
      "execution_count": null,
      "outputs": []
    },
    {
      "cell_type": "code",
      "source": [],
      "metadata": {
        "id": "n8WEXcUIELZC"
      },
      "execution_count": null,
      "outputs": []
    }
  ],
  "metadata": {
    "colab": {
      "provenance": [],
      "gpuType": "T4"
    },
    "kernelspec": {
      "display_name": "Python 3",
      "name": "python3"
    },
    "language_info": {
      "codemirror_mode": {
        "name": "ipython",
        "version": 3
      },
      "file_extension": ".py",
      "mimetype": "text/x-python",
      "name": "python",
      "nbconvert_exporter": "python",
      "pygments_lexer": "ipython3",
      "version": "3.9.5"
    },
    "accelerator": "GPU"
  },
  "nbformat": 4,
  "nbformat_minor": 0
}
