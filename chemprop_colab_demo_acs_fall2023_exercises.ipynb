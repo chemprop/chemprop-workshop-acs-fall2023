{
  "nbformat": 4,
  "nbformat_minor": 0,
  "metadata": {
    "colab": {
      "provenance": [],
      "gpuType": "T4"
    },
    "kernelspec": {
      "name": "python3",
      "display_name": "Python 3"
    },
    "language_info": {
      "name": "python"
    },
    "accelerator": "GPU"
  },
  "cells": [
    {
      "cell_type": "markdown",
      "metadata": {
        "id": "view-in-github",
        "colab_type": "text"
      },
      "source": [
        "<a href=\"https://colab.research.google.com/github/kevingreenman/chemprop-workshop-acs-fall2023/blob/main/chemprop_colab_demo_acs_fall2023_exercises.ipynb\" target=\"_parent\"><img src=\"https://colab.research.google.com/assets/colab-badge.svg\" alt=\"Open In Colab\"/></a>"
      ]
    },
    {
      "cell_type": "markdown",
      "metadata": {
        "id": "T2XDc8RVq6p6"
      },
      "source": [
        "Please note that this notebook is intended to be run in Google Colab rather than as a Jupyter notebook on your local machine. Please click the \"Open in Colab\" button."
      ]
    },
    {
      "cell_type": "markdown",
      "source": [
        "# Setup"
      ],
      "metadata": {
        "id": "wrQ2B26vFno7"
      }
    },
    {
      "cell_type": "code",
      "execution_count": null,
      "metadata": {
        "id": "bFTaVjpD_h1d"
      },
      "outputs": [],
      "source": [
        "!pip install chemprop\n",
        "!pip install rdkit-pypi  # should be included in above after Chemprop v1.6 release\n",
        "\n",
        "import chemprop\n",
        "import pandas as pd\n",
        "import matplotlib.pyplot as plt\n",
        "from matplotlib.offsetbox import AnchoredText\n",
        "from sklearn.metrics import mean_absolute_error, mean_squared_error\n",
        "from sklearn.decomposition import PCA"
      ]
    },
    {
      "cell_type": "code",
      "source": [
        "def plot_parity(y_true, y_pred, y_pred_unc=None):\n",
        "\n",
        "    axmin = min(min(y_true), min(y_pred)) - 0.1*(max(y_true)-min(y_true))\n",
        "    axmax = max(max(y_true), max(y_pred)) + 0.1*(max(y_true)-min(y_true))\n",
        "\n",
        "    mae = mean_absolute_error(y_true, y_pred)\n",
        "    rmse = mean_squared_error(y_true, y_pred, squared=False)\n",
        "\n",
        "    plt.plot([axmin, axmax], [axmin, axmax], '--k')\n",
        "\n",
        "    plt.errorbar(y_true, y_pred, yerr=y_pred_unc, linewidth=0, marker='o', markeredgecolor='w', alpha=1, elinewidth=1)\n",
        "\n",
        "    plt.xlim((axmin, axmax))\n",
        "    plt.ylim((axmin, axmax))\n",
        "\n",
        "    ax = plt.gca()\n",
        "    ax.set_aspect('equal')\n",
        "\n",
        "    at = AnchoredText(\n",
        "    f\"MAE = {mae:.2f}\\nRMSE = {rmse:.2f}\", prop=dict(size=10), frameon=True, loc='upper left')\n",
        "    at.patch.set_boxstyle(\"round,pad=0.,rounding_size=0.2\")\n",
        "    ax.add_artist(at)\n",
        "\n",
        "    plt.xlabel('True')\n",
        "    plt.ylabel('Chemprop Predicted')\n",
        "\n",
        "    plt.show()\n",
        "\n",
        "    return"
      ],
      "metadata": {
        "id": "470KCoRvCG0-"
      },
      "execution_count": null,
      "outputs": []
    },
    {
      "cell_type": "markdown",
      "source": [
        "# Get Datasets"
      ],
      "metadata": {
        "id": "YaAxjsLnFqF5"
      }
    },
    {
      "cell_type": "markdown",
      "source": [
        "Here we download datasets related to critical properties, solvation, and reaction barriers from the following papers:\n",
        "* Sayandeep Biswas, Yunsie Chung, Josephine Ramirez, Haoyang Wu, and William H. Green. \"Predicting Critical Properties and Acentric Factors of Fluids Using Multitask Machine Learning\". J. Chem. Inf. Model 63, 15, 4574–4588 (2023).\n",
        "https://doi.org/10.1021/acs.jcim.3c00546\n",
        "* Florence H. Vermeire, Yunsie Chung, and William H. Green. \"Predicting Solubility Limits of Organic Solutes for a Wide Range of Solvents and Temperatures\". J. Am. Chem. Soc. 144, 24, 10785–10797 (2022). https://doi.org/10.1021/jacs.2c01768\n",
        "* Kevin Spiekermann, Lagnajit Pattanaik, and William H. Green. \"High accuracy barrier heights, enthalpies, and rate coefficients for chemical reactions\". Sci Data 9, 417 (2022). https://doi.org/10.1038/s41597-022-01529-6"
      ],
      "metadata": {
        "id": "RcQ171Y7q4wZ"
      }
    },
    {
      "cell_type": "code",
      "source": [
        "!apt install subversion\n",
        "!svn export https://github.com/kevingreenman/chemprop-workshop-acs-fall2023.git/trunk/data"
      ],
      "metadata": {
        "id": "YGpkpo_CWXDL"
      },
      "execution_count": null,
      "outputs": []
    },
    {
      "cell_type": "markdown",
      "source": [
        "# Basic Regression Exercise"
      ],
      "metadata": {
        "id": "m7OJsRPcFsPM"
      }
    },
    {
      "cell_type": "code",
      "source": [
        "critprop_df = pd.read_csv(\"data/critprop_data_only_smiles_mean_value_expt.csv\")\n",
        "critprop_df"
      ],
      "metadata": {
        "id": "xI1Eu98DYE13"
      },
      "execution_count": null,
      "outputs": []
    },
    {
      "cell_type": "markdown",
      "source": [
        "### Training"
      ],
      "metadata": {
        "id": "RtS5v2UZXTmW"
      }
    },
    {
      "cell_type": "markdown",
      "source": [
        "Fill in the missing arguments to train a regression model on the critical temperature data from `data/critprop_data_only_smiles_mean_value_expt.csv`(the Tc column is called `Tc (K)`). Choose a number of epochs to train (5-10 should be sufficient for this exercise, though in practice we typically use 50+ epochs). Save the results in a directory called `test_checkpoints_critprop`."
      ],
      "metadata": {
        "id": "89rgPIfeswjr"
      }
    },
    {
      "cell_type": "code",
      "source": [
        "arguments = [\n",
        "    '--data_path', '',\n",
        "    '--dataset_type', '',\n",
        "    '--save_dir', '',\n",
        "    '--epochs', '',\n",
        "    '--save_smiles_splits',\n",
        "    '--target_columns', '',\n",
        "]\n",
        "\n",
        "args = chemprop.args.TrainArgs().parse_args(arguments)\n",
        "mean_score, std_score = chemprop.train.cross_validate(args=args, train_func=chemprop.train.run_training)"
      ],
      "metadata": {
        "id": "z1z4-be-BXOF"
      },
      "execution_count": null,
      "outputs": []
    },
    {
      "cell_type": "markdown",
      "source": [
        "### Prediction"
      ],
      "metadata": {
        "id": "M16h3GvoXYHV"
      }
    },
    {
      "cell_type": "markdown",
      "source": [
        "Fill in the missing arguments to make predictions on the test set using this trained model. Save the predictions in a file called `test_preds_critprop.csv`. Look at the examples from the previous notebook or navigate through the file tree in the pane on the left to find where the list of SMILES for the test set is stored."
      ],
      "metadata": {
        "id": "WepyZoU6t5gJ"
      }
    },
    {
      "cell_type": "code",
      "source": [
        "arguments = [\n",
        "    '--test_path', '',\n",
        "    '--preds_path', '',\n",
        "    '--checkpoint_dir', ''\n",
        "]\n",
        "\n",
        "args = chemprop.args.PredictArgs().parse_args(arguments)\n",
        "test_preds = chemprop.train.make_predictions(args=args)"
      ],
      "metadata": {
        "id": "ZTpQkWffB9Bb"
      },
      "execution_count": null,
      "outputs": []
    },
    {
      "cell_type": "markdown",
      "source": [
        "### Visualize Results"
      ],
      "metadata": {
        "id": "bf2NoYXVXg1g"
      }
    },
    {
      "cell_type": "code",
      "source": [
        "test_tc_df = pd.read_csv('test_checkpoints_critprop/fold_0/test_full.csv')\n",
        "test_tc_df['Tc preds (K)'] = [x[0] for x in test_preds]\n",
        "\n",
        "plot_parity(test_tc_df['Tc (K)'], test_tc_df['Tc preds (K)'])"
      ],
      "metadata": {
        "id": "th26vcIGCJEw"
      },
      "execution_count": null,
      "outputs": []
    },
    {
      "cell_type": "markdown",
      "source": [
        "# Multi-Molecule Exercise"
      ],
      "metadata": {
        "id": "mvIKkWo4Fb1L"
      }
    },
    {
      "cell_type": "code",
      "source": [
        "sol_df = pd.read_csv(\"data/CombiSolu-Exp.csv\")\n",
        "sol_df"
      ],
      "metadata": {
        "id": "-KsqK9jUYLI2"
      },
      "execution_count": null,
      "outputs": []
    },
    {
      "cell_type": "markdown",
      "source": [
        "### Training"
      ],
      "metadata": {
        "id": "o6tpzm-3XwAA"
      }
    },
    {
      "cell_type": "markdown",
      "source": [
        "Fill in the missing arguments to train the model on pairs of two molecules (solvents and solutes). The data comes from the file `data/CombiSolu-Exp.csv`. Save the results in a directory called `test_checkpoints_multimolecule`. Tell the model how many molecules you are giving it as input for each label. It will also need to know the names of the SMILES and target columns since the file contains additional columns that we're not using in this exercise."
      ],
      "metadata": {
        "id": "VfWfur8Puhvy"
      }
    },
    {
      "cell_type": "code",
      "source": [
        "arguments = [\n",
        "    '--data_path', '',\n",
        "    '--dataset_type', 'regression',\n",
        "    '--save_dir', '',\n",
        "    '--epochs', '5',\n",
        "    '--save_smiles_splits',\n",
        "    '--number_of_molecules', '',\n",
        "    '--smiles_columns', '', '',\n",
        "    '--target_columns', '',\n",
        "]\n",
        "\n",
        "args = chemprop.args.TrainArgs().parse_args(arguments)\n",
        "mean_score, std_score = chemprop.train.cross_validate(args=args, train_func=chemprop.train.run_training)"
      ],
      "metadata": {
        "id": "9fqJhBnJFbJT"
      },
      "execution_count": null,
      "outputs": []
    },
    {
      "cell_type": "markdown",
      "source": [
        "### Prediction"
      ],
      "metadata": {
        "id": "M-X8obhUXyDY"
      }
    },
    {
      "cell_type": "markdown",
      "source": [
        "Fill in the missing arguments for prediction. Note that you should again specify that the model should expect multiple SMILES as input, similarly to the training arguments."
      ],
      "metadata": {
        "id": "tpqacymeu8yq"
      }
    },
    {
      "cell_type": "code",
      "source": [
        "arguments = [\n",
        "    '--test_path', 'test_checkpoints_multimolecule/fold_0/test_smiles.csv',\n",
        "    '--preds_path', 'test_preds_multimolecule.csv',\n",
        "    '--checkpoint_dir', '',\n",
        "    '', '',\n",
        "]\n",
        "\n",
        "args = chemprop.args.PredictArgs().parse_args(arguments)\n",
        "test_preds = chemprop.train.make_predictions(args=args)"
      ],
      "metadata": {
        "id": "Jqqy92frX0y4"
      },
      "execution_count": null,
      "outputs": []
    },
    {
      "cell_type": "markdown",
      "source": [
        "### Visualize Results"
      ],
      "metadata": {
        "id": "Ampufl48X4Za"
      }
    },
    {
      "cell_type": "code",
      "source": [
        "test_sol_df = pd.read_csv('test_checkpoints_multimolecule/fold_0/test_full.csv')\n",
        "test_sol_df['logS pred'] = [x[0] for x in test_preds]\n",
        "\n",
        "plot_parity(test_sol_df['experimental_logS [mol/L]'], test_sol_df['logS pred'])"
      ],
      "metadata": {
        "id": "eYEO5-WwX6fQ"
      },
      "execution_count": null,
      "outputs": []
    },
    {
      "cell_type": "markdown",
      "source": [
        "# Reaction Exercise"
      ],
      "metadata": {
        "id": "9Xt-GrXFFjV6"
      }
    },
    {
      "cell_type": "code",
      "source": [
        "rxn_df = pd.read_csv(\"data/wb97xd3.csv\")\n",
        "rxn_df"
      ],
      "metadata": {
        "id": "IlYNVNoiFkt9"
      },
      "execution_count": null,
      "outputs": []
    },
    {
      "cell_type": "markdown",
      "source": [
        "### Training"
      ],
      "metadata": {
        "id": "E94CYCtMYOc4"
      }
    },
    {
      "cell_type": "markdown",
      "source": [
        "Fill in the missing argument to tell the model we want it to train in reaction mode."
      ],
      "metadata": {
        "id": "xWopvhlvvKP9"
      }
    },
    {
      "cell_type": "code",
      "source": [
        "arguments = [\n",
        "    '--data_path', 'data/wb97xd3.csv',\n",
        "    '--dataset_type', 'regression',\n",
        "    '--save_dir', 'test_checkpoints_reaction',\n",
        "    '--epochs', '5',\n",
        "    '',\n",
        "    '--save_smiles_splits',\n",
        "]\n",
        "\n",
        "args = chemprop.args.TrainArgs().parse_args(arguments)\n",
        "mean_score, std_score = chemprop.train.cross_validate(args=args, train_func=chemprop.train.run_training)"
      ],
      "metadata": {
        "id": "tF5M7g24YP29"
      },
      "execution_count": null,
      "outputs": []
    },
    {
      "cell_type": "markdown",
      "source": [
        "### Prediction"
      ],
      "metadata": {
        "id": "oq8N444rYQzv"
      }
    },
    {
      "cell_type": "code",
      "source": [
        "arguments = [\n",
        "    '--test_path', 'test_checkpoints_reaction/fold_0/test_smiles.csv',\n",
        "    '--preds_path', 'test_preds_reaction.csv',\n",
        "    '--checkpoint_dir', 'test_checkpoints_reaction'\n",
        "]\n",
        "\n",
        "args = chemprop.args.PredictArgs().parse_args(arguments)\n",
        "test_preds = chemprop.train.make_predictions(args=args)"
      ],
      "metadata": {
        "id": "x00P1CJCYQQZ"
      },
      "execution_count": null,
      "outputs": []
    },
    {
      "cell_type": "markdown",
      "source": [
        "### Visualize Results"
      ],
      "metadata": {
        "id": "GQge2ZgaYSbm"
      }
    },
    {
      "cell_type": "code",
      "source": [
        "test_rxn_df = pd.read_csv('test_checkpoints_reaction/fold_0/test_full.csv')\n",
        "test_rxn_df['dE0 preds'] = [x[0] for x in test_preds]\n",
        "\n",
        "plot_parity(test_rxn_df['dE0'], test_rxn_df['dE0 preds'])"
      ],
      "metadata": {
        "id": "mNZaEZfAYSyb"
      },
      "execution_count": null,
      "outputs": []
    }
  ]
}
